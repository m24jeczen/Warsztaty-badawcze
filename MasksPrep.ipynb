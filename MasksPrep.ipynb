{
 "cells": [
  {
   "cell_type": "markdown",
   "metadata": {},
   "source": [
    "Preparing masks and splitting them into patches."
   ]
  },
  {
   "cell_type": "code",
   "execution_count": 4,
   "metadata": {},
   "outputs": [],
   "source": [
    "import os\n",
    "from PIL import Image\n",
    "\n",
    "# Funkcja do dzielenia maski na patche\n",
    "def split_mask_into_patches(mask_path, output_folder):\n",
    "    # Otwórz maskę jako obiekt obrazu PIL\n",
    "    mask = Image.open(mask_path)\n",
    "\n",
    "    # Ustal wymiary patcha\n",
    "    patch_width = mask.width // 7\n",
    "    patch_height = mask.height // 6\n",
    "\n",
    "    # Iteracja przez wszystkie patche i zapisanie ich\n",
    "    for i in range(7):\n",
    "        for j in range(6):\n",
    "            # Oblicz współrzędne patcha\n",
    "            left = i * patch_width\n",
    "            upper = j * patch_height\n",
    "            right = (i + 1) * patch_width\n",
    "            lower = (j + 1) * patch_height\n",
    "\n",
    "            # Wytnij patch\n",
    "            patch = mask.crop((left, upper, right, lower))\n",
    "\n",
    "            # Utwórz nazwę pliku dla patcha (bez rozszerzenia)\n",
    "            patch_filename = os.path.splitext(os.path.basename(mask_path))[0]\n",
    "\n",
    "            # Zapisz patch\n",
    "            patch_folder = os.path.join(output_folder, patch_filename)\n",
    "            os.makedirs(patch_folder, exist_ok=True)\n",
    "            patch.save(os.path.join(patch_folder, f\"patch_{i}_{j}.tiff\"))\n",
    "\n",
    "# Ścieżka do folderu z maskami\n",
    "folder_path = \"Masks\"\n",
    "\n",
    "# Tworzenie folderu na patche, jeśli nie istnieje\n",
    "output_folder = os.path.join(folder_path, \"Patches\")\n",
    "os.makedirs(output_folder, exist_ok=True)\n",
    "\n",
    "# Iteracja przez pliki w folderze z maskami\n",
    "for filename in os.listdir(folder_path):\n",
    "    if filename.endswith(\".TIF\"):  # Przetwarzaj tylko pliki z rozszerzeniem .tiff\n",
    "        mask_path = os.path.join(folder_path, filename)\n",
    "        split_mask_into_patches(mask_path, output_folder)\n"
   ]
  }
 ],
 "metadata": {
  "kernelspec": {
   "display_name": "base",
   "language": "python",
   "name": "python3"
  },
  "language_info": {
   "codemirror_mode": {
    "name": "ipython",
    "version": 3
   },
   "file_extension": ".py",
   "mimetype": "text/x-python",
   "name": "python",
   "nbconvert_exporter": "python",
   "pygments_lexer": "ipython3",
   "version": "3.9.13"
  }
 },
 "nbformat": 4,
 "nbformat_minor": 2
}
