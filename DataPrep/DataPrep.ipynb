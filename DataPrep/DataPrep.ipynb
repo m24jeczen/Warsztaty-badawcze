{
 "cells": [
  {
   "cell_type": "markdown",
   "metadata": {},
   "source": [
    "## Pre-processing\n",
    "For this part of the project we will only be using \"Images\" as our data."
   ]
  },
  {
   "cell_type": "markdown",
   "metadata": {},
   "source": [
    "### Patch extraction"
   ]
  },
  {
   "cell_type": "code",
   "execution_count": 1,
   "metadata": {},
   "outputs": [],
   "source": [
    "#pip install patchify\n",
    "import os\n",
    "import random\n",
    "import shutil\n",
    "import numpy as np\n",
    "from patchify import patchify\n",
    "from PIL import Image\n",
    "import os\n",
    "import random\n",
    "import csv"
   ]
  },
  {
   "cell_type": "markdown",
   "metadata": {},
   "source": [
    "Splitting data into train set and test set"
   ]
  },
  {
   "cell_type": "code",
   "execution_count": 2,
   "metadata": {},
   "outputs": [],
   "source": [
    "import os\n",
    "import shutil\n",
    "import random\n",
    "\n",
    "folder_path = 'Patches_Data'\n",
    "\n",
    "data_folder = 'Data'\n",
    "os.makedirs(data_folder, exist_ok=True)\n",
    "\n",
    "train_folder = os.path.join(data_folder, 'Train')\n",
    "test_folder = os.path.join(data_folder, 'Test')\n",
    "\n",
    "os.makedirs(train_folder, exist_ok=True)\n",
    "os.makedirs(test_folder, exist_ok=True)\n",
    "\n",
    "\n",
    "file_list = os.listdir(folder_path)\n",
    "random.shuffle(file_list)\n",
    "\n",
    "train_size = int(0.7 * len(file_list))\n",
    "\n",
    "train_files = file_list[:train_size]\n",
    "test_files = file_list[train_size:]\n",
    "\n",
    "for file in train_files:\n",
    "    shutil.move(os.path.join(folder_path, file), train_folder)\n",
    "\n",
    "for file in test_files:\n",
    "    shutil.move(os.path.join(folder_path, file), test_folder)\n"
   ]
  },
  {
   "cell_type": "code",
   "execution_count": null,
   "metadata": {},
   "outputs": [],
   "source": [
    "\n",
    "# Path to the folder containing interior image folders\n",
    "source_folder = 'Data/Train'\n",
    "\n",
    "# Path to the folder where you want to save the selected images\n",
    "destination_folder = 'Data/Selected_Train_8'\n",
    "os.makedirs(destination_folder, exist_ok=True)\n",
    "\n",
    "# Function to select and copy 5 random images from each folder\n",
    "def select_and_copy_images(source_folder, destination_folder):\n",
    "    # Iterate through each folder in the source directory\n",
    "    for folder in os.listdir(source_folder):\n",
    "        folder_path = os.path.join(source_folder, folder)\n",
    "        if os.path.isdir(folder_path):\n",
    "            # Create a new folder in the destination directory\n",
    "            new_folder_path = os.path.join(destination_folder, folder)\n",
    "            os.makedirs(new_folder_path, exist_ok=True)\n",
    "            # List all images in the current folder\n",
    "            images = [file for file in os.listdir(folder_path) if file.endswith(('png'))]\n",
    "            # Randomly select 5 images\n",
    "            selected_images = random.sample(images, min(8, len(images)))\n",
    "            # Copy selected images to the new folder\n",
    "            for image in selected_images:\n",
    "                source_image_path = os.path.join(folder_path, image)\n",
    "                destination_image_path = os.path.join(new_folder_path, image)\n",
    "                shutil.copyfile(source_image_path, destination_image_path)\n",
    "                #print(f\"Copied {image} to {new_folder_path}\")\n",
    "\n",
    "# Call the function to perform the task\n",
    "select_and_copy_images(source_folder, destination_folder)\n"
   ]
  },
  {
   "cell_type": "code",
   "execution_count": null,
   "metadata": {},
   "outputs": [],
   "source": [
    "import os\n",
    "from sklearn.model_selection import train_test_split\n",
    "import shutil\n",
    "import signal\n",
    "\n",
    "# Path to the folder containing interior image folders\n",
    "source_folder = 'Patches_Data'\n",
    "\n",
    "# Path to the folder where you want to save the selected images\n",
    "destination_folder = 'Data'\n",
    "os.makedirs(destination_folder, exist_ok=True)\n",
    "\n",
    "# Function to select and copy images, and split them into training and testing sets\n",
    "def select_copy_and_split_images(source_folder, destination_folder, test_size=0.3):\n",
    "    # Disable timeout for copying operation\n",
    "    signal.alarm(0)\n",
    "    \n",
    "    # Iterate through each folder in the source directory\n",
    "    for folder in os.listdir(source_folder):\n",
    "        folder_path = os.path.join(source_folder, folder)\n",
    "        if os.path.isdir(folder_path):\n",
    "            # List all images in the current folder\n",
    "            images = [os.path.join(folder_path, file) for file in os.listdir(folder_path) if file.endswith(('png'))]\n",
    "            # Split images into training and testing sets\n",
    "            train_images, test_images = train_test_split(images, test_size=test_size, random_state=42)\n",
    "            # Create new folders for training and testing sets\n",
    "            train_folder_path = os.path.join(destination_folder, 'Train', folder)\n",
    "            test_folder_path = os.path.join(destination_folder, 'Test', folder)\n",
    "            os.makedirs(train_folder_path, exist_ok=True)\n",
    "            os.makedirs(test_folder_path, exist_ok=True)\n",
    "            # Copy selected images to the new folders\n",
    "            for image in train_images:\n",
    "                shutil.copy(image, os.path.join(train_folder_path, os.path.basename(image)))\n",
    "            for image in test_images:\n",
    "                shutil.copy(image, os.path.join(test_folder_path, os.path.basename(image)))\n",
    "    \n",
    "    # Reset the alarm after copying is done\n",
    "    signal.alarm(0)\n",
    "\n",
    "# Call the function to perform the task\n",
    "select_copy_and_split_images(source_folder, destination_folder)\n"
   ]
  },
  {
   "cell_type": "markdown",
   "metadata": {},
   "source": [
    "### Labels CSV creation"
   ]
  },
  {
   "cell_type": "code",
   "execution_count": null,
   "metadata": {},
   "outputs": [],
   "source": [
    "import os\n",
    "import csv \n",
    "\n",
    "input_folder = \"Data/Selected_Train_5\"\n",
    "output_csv = \"Data/Selected_Train_5/labels.csv\"\n",
    "\n",
    "with open(output_csv, 'w', newline='') as csvfile:\n",
    "    fieldnames = ['filename', 'label']\n",
    "    writer = csv.DictWriter(csvfile, fieldnames=fieldnames)\n",
    "    \n",
    "    \n",
    "    for filename in os.listdir(input_folder):\n",
    "        label = \"benign\" if \"benign\" in filename else \"malignant\"\n",
    "        \n",
    "        writer.writerow({'filename': filename, 'label': label})\n"
   ]
  },
  {
   "cell_type": "markdown",
   "metadata": {},
   "source": [
    "The appropriate data hierarchy (for the SparseConvMIL algorithm) is located in the Selected_Data folder\n",
    "(patch sizes 128 x 128 px, 5 patches extracted)"
   ]
  }
 ],
 "metadata": {
  "kernelspec": {
   "display_name": "base",
   "language": "python",
   "name": "python3"
  },
  "language_info": {
   "codemirror_mode": {
    "name": "ipython",
    "version": 3
   },
   "file_extension": ".py",
   "mimetype": "text/x-python",
   "name": "python",
   "nbconvert_exporter": "python",
   "pygments_lexer": "ipython3",
   "version": "3.9.13"
  }
 },
 "nbformat": 4,
 "nbformat_minor": 2
}
